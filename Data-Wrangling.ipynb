{
 "metadata": {
  "name": "Data-Wrangling"
 },
 "nbformat": 3,
 "nbformat_minor": 0,
 "worksheets": [
  {
   "cells": [
    {
     "cell_type": "code",
     "collapsed": false,
     "input": [
      "from pandas import *\n"
     ],
     "language": "python",
     "metadata": {},
     "outputs": [],
     "prompt_number": 1
    },
    {
     "cell_type": "code",
     "collapsed": false,
     "input": [
      "pwd"
     ],
     "language": "python",
     "metadata": {},
     "outputs": [
      {
       "output_type": "pyout",
       "prompt_number": 2,
       "text": [
        "u'/projects/sandbox/pa-police-checkpoints'"
       ]
      }
     ],
     "prompt_number": 2
    },
    {
     "cell_type": "code",
     "collapsed": false,
     "input": [
      "tdf = read_csv('data/2013_01_30_PaTrafficStops.csv')\n",
      "tdf"
     ],
     "language": "python",
     "metadata": {},
     "outputs": [
      {
       "output_type": "pyout",
       "prompt_number": 4,
       "text": [
        "<class 'pandas.core.frame.DataFrame'>\n",
        "Int64Index: 1828 entries, 0 to 1827\n",
        "Columns: 106 entries, IMG to NOTES\n",
        "dtypes: float64(84), object(22)"
       ]
      }
     ],
     "prompt_number": 4
    },
    {
     "cell_type": "code",
     "collapsed": false,
     "input": [
      "tdf[\"location_original\"]\n"
     ],
     "language": "python",
     "metadata": {},
     "outputs": [
      {
       "output_type": "pyout",
       "prompt_number": 6,
       "text": [
        "0     NaN\n",
        "1     NaN\n",
        "2     NaN\n",
        "3     NaN\n",
        "4     NaN\n",
        "5     NaN\n",
        "6     NaN\n",
        "7     NaN\n",
        "8     NaN\n",
        "9     NaN\n",
        "10    NaN\n",
        "11    NaN\n",
        "12    NaN\n",
        "13    NaN\n",
        "14    NaN\n",
        "...\n",
        "1813                                                  NaN\n",
        "1814                                                  NaN\n",
        "1815                                                  NaN\n",
        "1816                                                  NaN\n",
        "1817                                                  NaN\n",
        "1818                                                  NaN\n",
        "1819                                                  NaN\n",
        "1820                                                  NaN\n",
        "1821                                                  NaN\n",
        "1822                                                  NaN\n",
        "1823                                                  NaN\n",
        "1824                                                  NaN\n",
        "1825                                                  NaN\n",
        "1826                                                  NaN\n",
        "1827    SR 4013 (Captain Bloom Road), 1/4 mile west of...\n",
        "Name: location_original, Length: 1828"
       ]
      }
     ],
     "prompt_number": 6
    },
    {
     "cell_type": "code",
     "collapsed": false,
     "input": [
      "Ttdf.keys\n"
     ],
     "language": "python",
     "metadata": {},
     "outputs": [
      {
       "output_type": "pyout",
       "prompt_number": 11,
       "text": [
        "<bound method DataFrame.keys of <class 'pandas.core.frame.DataFrame'>\n",
        "Int64Index: 1166 entries, 0 to 1165\n",
        "Data columns:\n",
        "IMG                    928  non-null values\n",
        "TROOP                  1166  non-null values\n",
        "STATION                1164  non-null values\n",
        "DATE                   1166  non-null values\n",
        "LOCATION               1166  non-null values\n",
        "e_relation             89  non-null values\n",
        "e_cross_street         90  non-null values\n",
        "Town                   577  non-null values\n",
        "county                 516  non-null values\n",
        "VEHICLES STOPPED       1127  non-null values\n",
        "FAULTY EQUIPMENT       1127  non-null values\n",
        "W/O DRIVERS LICENSE    1126  non-null values\n",
        "W/O REG CARD           1126  non-null values\n",
        "TRAFFIC VIOLATION      1126  non-null values\n",
        "WARNING NOTICES        1126  non-null values\n",
        "verbal warnings        18  non-null values\n",
        "CITATIONS              1117  non-null values\n",
        "CITATIONS/SECTION      2  non-null values\n",
        "1115                   1  non-null values\n",
        "1301                   150  non-null values\n",
        "1301a                  22  non-null values\n",
        "1311                   8  non-null values\n",
        "1332                   3  non-null values\n",
        "1334                   1  non-null values\n",
        "1336                   1  non-null values\n",
        "1371                   6  non-null values\n",
        "1372                   2  non-null values\n",
        "1501                   123  non-null values\n",
        "1501.1                 19  non-null values\n",
        "1502                   1  non-null values\n",
        "1504a                  4  non-null values\n",
        "1505                   1  non-null values\n",
        "1510                   1  non-null values\n",
        "1511                   13  non-null values\n",
        "1511a                  2  non-null values\n",
        "1515                   9  non-null values\n",
        "1543                   128  non-null values\n",
        "1543A                  20  non-null values\n",
        "1543b                  18  non-null values\n",
        "1571                   2  non-null values\n",
        "1572                   1  non-null values\n",
        "1574                   2  non-null values\n",
        "1575                   3  non-null values\n",
        "1781                   3  non-null values\n",
        "1786                   82  non-null values\n",
        "3102                   2  non-null values\n",
        "3111                   28  non-null values\n",
        "3112                   1  non-null values\n",
        "3309                   8  non-null values\n",
        "3310                   1  non-null values\n",
        "3311                   1  non-null values\n",
        "3314                   1  non-null values\n",
        "3321                   1  non-null values\n",
        "3322                   2  non-null values\n",
        "3323                   8  non-null values\n",
        "3332                   1  non-null values\n",
        "3334                   3  non-null values\n",
        "3352                   3  non-null values\n",
        "3361                   6  non-null values\n",
        "3362                   20  non-null values\n",
        "3525                   3  non-null values\n",
        "3709                   1  non-null values\n",
        "3714                   12  non-null values\n",
        "3715                   1  non-null values\n",
        "3718                   1  non-null values\n",
        "3736                   1  non-null values\n",
        "3746                   1  non-null values\n",
        "3802                   11  non-null values\n",
        "3809                   7  non-null values\n",
        "4107                   18  non-null values\n",
        "4301                   1  non-null values\n",
        "4303                   1  non-null values\n",
        "4307                   1  non-null values\n",
        "4523                   1  non-null values\n",
        "4524                   1  non-null values\n",
        "4525                   4  non-null values\n",
        "4533                   2  non-null values\n",
        "4536                   1  non-null values\n",
        "4581                   72  non-null values\n",
        "4581A                  8  non-null values\n",
        "4582                   1  non-null values\n",
        "4701                   1  non-null values\n",
        "4702                   2  non-null values\n",
        "4703                   299  non-null values\n",
        "4703A                  29  non-null values\n",
        "4706                   14  non-null values\n",
        "4729                   1  non-null values\n",
        "4730                   1  non-null values\n",
        "4882                   1  non-null values\n",
        "4903                   2  non-null values\n",
        "4905                   1  non-null values\n",
        "4925                   1  non-null values\n",
        "4942                   1  non-null values\n",
        "6308                   4  non-null values\n",
        "6502                   1  non-null values\n",
        "7101                   1  non-null values\n",
        "7711                   1  non-null values\n",
        "8306                   1  non-null values\n",
        "NOTES                  124  non-null values\n",
        "dtypes: float64(83), object(16)>"
       ]
      }
     ],
     "prompt_number": 11
    },
    {
     "cell_type": "code",
     "collapsed": false,
     "input": [
      "import statsmodels\n"
     ],
     "language": "python",
     "metadata": {},
     "outputs": [],
     "prompt_number": 13
    },
    {
     "cell_type": "code",
     "collapsed": false,
     "input": [
      "import tables"
     ],
     "language": "python",
     "metadata": {},
     "outputs": [],
     "prompt_number": 15
    },
    {
     "cell_type": "code",
     "collapsed": false,
     "input": [
      "import scipy"
     ],
     "language": "python",
     "metadata": {},
     "outputs": [],
     "prompt_number": 16
    },
    {
     "cell_type": "code",
     "collapsed": false,
     "input": [
      "import numpy as np"
     ],
     "language": "python",
     "metadata": {},
     "outputs": [],
     "prompt_number": 17
    },
    {
     "cell_type": "code",
     "collapsed": false,
     "input": [
      "tdf.keys()"
     ],
     "language": "python",
     "metadata": {},
     "outputs": [
      {
       "output_type": "pyout",
       "prompt_number": 35,
       "text": [
        "Index([IMG, TROOP, STATION, DATE, location_original, street_number, street_name, cross_street, relation, distance_offset, landmark, borough, township, Town, county, VEHICLES STOPPED, FAULTY EQUIPMENT, W/O DRIVERS LICENSE, W/O REG CARD, TRAFFIC VIOLATION, WARNING NOTICES, verbal warnings (where noted), CITATIONS, CITATIONS/SECTION, 1115, 1301, 1301a, 1311, 1332, 1334, 1336, 1371, 1372, 1501, 1501a, 1502, 1504a, 1505, 1510, 1511, 1511a, 1515, 1543, 1543a, 1543b, 1571, 1572, 1574, 1575, 1781, 1786, 3102, 3111, 3112, 3309, 3310, 3311, 3314, 3321, 3322, 3323, 3332, 3334, 3352, 3361, 3362, 3525, 3709, 3714, 3715, 3718, 3736, 3746, 3802, 3809, 4107, 4301, 4303, 4307, 4523, 4524, 4525, 4533, 4536, 4581, 4581A, 4582, 4701, 4702, 4703, 4703a, 4706, 4729, 4730, 4882, 4903, 4905, 4524.1, 4925, 4942, 6308, 6502, 7101, 7711, 8306, NOTES], dtype=object)"
       ]
      }
     ],
     "prompt_number": 35
    },
    {
     "cell_type": "code",
     "collapsed": false,
     "input": [
      "tdf[\"well_formed\"] = False"
     ],
     "language": "python",
     "metadata": {},
     "outputs": [],
     "prompt_number": 36
    },
    {
     "cell_type": "code",
     "collapsed": false,
     "input": [
      "tdf.well_formed"
     ],
     "language": "python",
     "metadata": {},
     "outputs": [
      {
       "output_type": "pyout",
       "prompt_number": 37,
       "text": [
        "0     False\n",
        "1     False\n",
        "2     False\n",
        "3     False\n",
        "4     False\n",
        "5     False\n",
        "6     False\n",
        "7     False\n",
        "8     False\n",
        "9     False\n",
        "10    False\n",
        "11    False\n",
        "12    False\n",
        "13    False\n",
        "14    False\n",
        "...\n",
        "1460    False\n",
        "1461    False\n",
        "1462    False\n",
        "1463    False\n",
        "1464    False\n",
        "1465    False\n",
        "1466    False\n",
        "1467    False\n",
        "1468    False\n",
        "1469    False\n",
        "1470    False\n",
        "1471    False\n",
        "1472    False\n",
        "1473    False\n",
        "1474    False\n",
        "Name: well_formed, Length: 1475"
       ]
      }
     ],
     "prompt_number": 37
    },
    {
     "cell_type": "code",
     "collapsed": false,
     "input": [
      "tdf.index[30]"
     ],
     "language": "python",
     "metadata": {},
     "outputs": [
      {
       "output_type": "pyout",
       "prompt_number": 26,
       "text": [
        "30"
       ]
      }
     ],
     "prompt_number": 26
    },
    {
     "cell_type": "code",
     "collapsed": false,
     "input": [
      "tdf.ix[60][\"IMG\"]"
     ],
     "language": "python",
     "metadata": {},
     "outputs": [
      {
       "output_type": "pyout",
       "prompt_number": 31,
       "text": [
        "2936.0"
       ]
      }
     ],
     "prompt_number": 31
    },
    {
     "cell_type": "code",
     "collapsed": false,
     "input": [
      "tdf.ix[0:59][\"well_formed\"] = True"
     ],
     "language": "python",
     "metadata": {},
     "outputs": [],
     "prompt_number": 38
    },
    {
     "cell_type": "code",
     "collapsed": false,
     "input": [
      "tdf.well_formed"
     ],
     "language": "python",
     "metadata": {},
     "outputs": [
      {
       "output_type": "pyout",
       "prompt_number": 39,
       "text": [
        "0     True\n",
        "1     True\n",
        "2     True\n",
        "3     True\n",
        "4     True\n",
        "5     True\n",
        "6     True\n",
        "7     True\n",
        "8     True\n",
        "9     True\n",
        "10    True\n",
        "11    True\n",
        "12    True\n",
        "13    True\n",
        "14    True\n",
        "...\n",
        "1460    False\n",
        "1461    False\n",
        "1462    False\n",
        "1463    False\n",
        "1464    False\n",
        "1465    False\n",
        "1466    False\n",
        "1467    False\n",
        "1468    False\n",
        "1469    False\n",
        "1470    False\n",
        "1471    False\n",
        "1472    False\n",
        "1473    False\n",
        "1474    False\n",
        "Name: well_formed, Length: 1475"
       ]
      }
     ],
     "prompt_number": 39
    },
    {
     "cell_type": "code",
     "collapsed": false,
     "input": [
      "ephrata = tdf[tdf.STATION == 'Ephrata 4250']"
     ],
     "language": "python",
     "metadata": {},
     "outputs": [],
     "prompt_number": 42
    },
    {
     "cell_type": "code",
     "collapsed": false,
     "input": [
      "ephrata.location_original[61].strip()"
     ],
     "language": "python",
     "metadata": {},
     "outputs": [
      {
       "output_type": "pyout",
       "prompt_number": 46,
       "text": [
        "'SR 625 .5 mile North of Von Neida St'"
       ]
      }
     ],
     "prompt_number": 46
    },
    {
     "cell_type": "code",
     "collapsed": false,
     "input": [
      "ephrata.location_original.map(str.strip)"
     ],
     "language": "python",
     "metadata": {},
     "outputs": [
      {
       "output_type": "pyout",
       "prompt_number": 56,
       "text": [
        "61                 SR 625 .5 mile North of Von Neida St\n",
        "62    Lauschtown Rd. 1/2 mileeastof SR 897 Brecknock...\n",
        "63    West Brubaker Valley Rd. at Lakeview Dr Elizab...\n",
        "64    SR 897 1/2 mile north of highpoint Dr. Breckno...\n",
        "65    1100 block of Reading Rd. (SR 625) Brecknock Twp.\n",
        "Name: location_original"
       ]
      }
     ],
     "prompt_number": 56
    },
    {
     "cell_type": "code",
     "collapsed": false,
     "input": [
      "tdf.apply?"
     ],
     "language": "python",
     "metadata": {},
     "outputs": [],
     "prompt_number": 91
    },
    {
     "cell_type": "code",
     "collapsed": false,
     "input": [
      "from py.wrangle import *"
     ],
     "language": "python",
     "metadata": {},
     "outputs": [
      {
       "output_type": "pyout",
       "prompt_number": 145,
       "text": [
        "<module 'py.wrangle' from 'py/wrangle.py'>"
       ]
      }
     ],
     "prompt_number": 145
    },
    {
     "cell_type": "code",
     "collapsed": false,
     "input": [
      "reload(py.wrangle)"
     ],
     "language": "python",
     "metadata": {},
     "outputs": [
      {
       "output_type": "pyout",
       "prompt_number": 155,
       "text": [
        "<module 'py.wrangle' from 'py/wrangle.py'>"
       ]
      }
     ],
     "prompt_number": 155
    },
    {
     "cell_type": "code",
     "collapsed": false,
     "input": [
      "a = add_address(tdf[tdf.well_formed])"
     ],
     "language": "python",
     "metadata": {},
     "outputs": [],
     "prompt_number": 156
    },
    {
     "cell_type": "code",
     "collapsed": false,
     "input": [
      "a"
     ],
     "language": "python",
     "metadata": {},
     "outputs": [
      {
       "output_type": "pyout",
       "prompt_number": 157,
       "text": [
        "<class 'pandas.core.frame.DataFrame'>\n",
        "Int64Index: 60 entries, 0 to 59\n",
        "Columns: 108 entries, IMG to std_address\n",
        "dtypes: bool(1), float64(87), object(20)"
       ]
      }
     ],
     "prompt_number": 157
    },
    {
     "cell_type": "code",
     "collapsed": false,
     "input": [
      "a.std_address"
     ],
     "language": "python",
     "metadata": {},
     "outputs": [
      {
       "output_type": "pyout",
       "prompt_number": 158,
       "text": [
        "0                                                      \n",
        "1     sr 272 and south little britain road, lancaste...\n",
        "2     sr 272 and south little britain road, lancaste...\n",
        "3     sr 272 and south little britain road, lancaste...\n",
        "4                                                      \n",
        "5     sr 272 and south little britain road, lancaste...\n",
        "6     sr 372 and groff ave, quarryville borough town...\n",
        "7     sr 272 and south little britain road, lancaste...\n",
        "8     sr373 and n groff ave, quarryville borough tow...\n",
        "9                                                      \n",
        "10                                                     \n",
        "11                                                     \n",
        "12     sr 772 and intercourse, ? township, Pennsylvania\n",
        "13    sr 372 and groffdale road, eden township, Penn...\n",
        "14    sr 272 and south little britain road, lancaste...\n",
        "15                                                     \n",
        "16                  east drumore township, Pennsylvania\n",
        "17    sr 372 and groffdale road, eden township, Penn...\n",
        "18                                                     \n",
        "19                                                     \n",
        "20    sr 272 and south little britain road, lancaste...\n",
        "21    840 lancaster pike, east drumore township, Pen...\n",
        "22                                                     \n",
        "23    sr 272 and south little britain road, lancaste...\n",
        "24    baltimore park and lake road, chester county, ...\n",
        "25    baltimore park and thompson road, east garden ...\n",
        "26    baltimore park and forge road, nottingham town...\n",
        "27    state road and meadow wood lane, chester count...\n",
        "28    baltimore pike and lake road, chester county, ...\n",
        "29    sr 796 and colton drive, chester county, Penns...\n",
        "30    baltimore park and lake road, chester county, ...\n",
        "31    sr 796 and colton drive, chester county, Penns...\n",
        "32    baltimore park and lake road, chester county, ...\n",
        "33    state road and meadow wood lane, chester count...\n",
        "34    sr 796 and colton drive, chester county, Penns...\n",
        "35    baltimore park and forge road, nottingham town...\n",
        "36    baltimore park and lake road, chester county, ...\n",
        "37    baltimore park and lake road, chester county, ...\n",
        "38    baltimore park and lake road, chester county, ...\n",
        "39    baltimore park and lake road, chester county, ...\n",
        "40    baltimore park and lake road, chester county, ...\n",
        "41    baltimore park and forge road, nottingham town...\n",
        "42                                                     \n",
        "43    baltimore park and shadyside road, nottingham ...\n",
        "44                                                     \n",
        "45                                                     \n",
        "46                                                     \n",
        "47    1800 straussburg road, chester county, Pennsyl...\n",
        "48    marshalton-thorndale road and campus drive, we...\n",
        "49                                                     \n",
        "50                                                     \n",
        "51                                                     \n",
        "52    1800 straussburg road, chester county, Pennsyl...\n",
        "53    marshalton-thorndale road and poorhouse road, ...\n",
        "54    marshalton thorndale road and poorhouse road, ...\n",
        "55    marshalton thorndale road and poorhouse road, ...\n",
        "56                                                     \n",
        "57                                                     \n",
        "58    marshalton thorndale road and poorhouse road, ...\n",
        "59    marshalton thorndale road and poorhouse road, ...\n",
        "Name: std_address, Length: 60"
       ]
      }
     ],
     "prompt_number": 158
    },
    {
     "cell_type": "code",
     "collapsed": false,
     "input": [
      "a.to_csv?"
     ],
     "language": "python",
     "metadata": {},
     "outputs": [],
     "prompt_number": 159
    },
    {
     "cell_type": "code",
     "collapsed": false,
     "input": [
      "va = a[a['std_address'] != '']"
     ],
     "language": "python",
     "metadata": {},
     "outputs": [],
     "prompt_number": 163
    },
    {
     "cell_type": "code",
     "collapsed": false,
     "input": [
      "va.to_csv('data/first_60_good.csv')"
     ],
     "language": "python",
     "metadata": {},
     "outputs": [],
     "prompt_number": 164
    },
    {
     "cell_type": "code",
     "collapsed": false,
     "input": [],
     "language": "python",
     "metadata": {},
     "outputs": []
    }
   ],
   "metadata": {}
  }
 ]
}